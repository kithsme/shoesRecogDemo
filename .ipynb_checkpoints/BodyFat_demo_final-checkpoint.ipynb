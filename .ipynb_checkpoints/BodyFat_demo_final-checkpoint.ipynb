{
 "cells": [
  {
   "cell_type": "code",
   "execution_count": null,
   "metadata": {},
   "outputs": [],
   "source": [
    "import numpy as np\n",
    "import matplotlib.pyplot as plt\n",
    "import pandas as pd\n",
    "import matplotlib.font_manager as fm\n",
    "import matplotlib\n",
    "import itertools \n",
    "from sklearn.preprocessing import PolynomialFeatures\n",
    "from sklearn.model_selection import train_test_split\n",
    "from sklearn.svm import SVC\n",
    "from sklearn.gaussian_process.kernels import RBF\n",
    "from sklearn import svm\n",
    "from sklearn.feature_selection import RFE\n",
    "from sklearn.metrics import accuracy_score"
   ]
  },
  {
   "cell_type": "markdown",
   "metadata": {},
   "source": [
    "### Data 불러오기"
   ]
  },
  {
   "cell_type": "code",
   "execution_count": null,
   "metadata": {
    "scrolled": true
   },
   "outputs": [],
   "source": [
    "df=pd.read_csv('Bodyfat.csv')\n",
    "df=df.drop('Bodyfat',axis=1)\n",
    "df"
   ]
  },
  {
   "cell_type": "markdown",
   "metadata": {},
   "source": [
    "### Train Data 생성"
   ]
  },
  {
   "cell_type": "code",
   "execution_count": null,
   "metadata": {
    "scrolled": true
   },
   "outputs": [],
   "source": [
    "X=df.iloc[:,:-1]\n",
    "y=df.iloc[:,-1]\n",
    "X_train, X_test, y_train, y_test = train_test_split(X, y, random_state=0)\n",
    "Traindata=pd.concat([X_train,y_train],axis=1)\n",
    "Traindata # 189*14"
   ]
  },
  {
   "cell_type": "markdown",
   "metadata": {},
   "source": [
    "### Test Data 생성 "
   ]
  },
  {
   "cell_type": "code",
   "execution_count": null,
   "metadata": {},
   "outputs": [],
   "source": [
    "Test_temp=pd.concat([X_test,y_test],axis=1)\n",
    "y_test_nan = pd.DataFrame(columns=['predicted_Bodyfat_class'])\n",
    "Test = pd.concat([Test_temp,y_test_nan],axis=1)\n",
    "Test # 63*15\n"
   ]
  },
  {
   "cell_type": "markdown",
   "metadata": {},
   "source": [
    "### Classification (Support Vector Machine)"
   ]
  },
  {
   "cell_type": "code",
   "execution_count": null,
   "metadata": {},
   "outputs": [],
   "source": [
    "def make_meshgrid(x, y, h=.02):\n",
    "    x_min, x_max = x.min() - 1, x.max() + 1\n",
    "    y_min, y_max = y.min() - 1, y.max() + 1\n",
    "    xx, yy = np.meshgrid(np.arange(x_min, x_max, h),\n",
    "                         np.arange(y_min, y_max, h))\n",
    "    return xx, yy\n",
    "def plot_contours(ax, clf, xx, yy, **params):\n",
    "    Z = clf.predict(np.c_[xx.ravel(), yy.ravel()])\n",
    "    Z = Z.reshape(xx.shape)\n",
    "    out = ax.contourf(xx, yy, Z,**params)\n",
    "    return out\n",
    "\n",
    "C = 1.0 \n",
    "\n",
    "X = X_train.iloc[:,[3,4]] #Neck, Chest\n",
    "y = y_train\n",
    "clf=svm.SVC(kernel='rbf', gamma=0.7, C=C)\n",
    "models = clf.fit(X, y) \n",
    "title= ('SVM with RBF kernel')\n",
    "X0, X1 = X.iloc[:, 0], X.iloc[:, 1]\n",
    "xx, yy = make_meshgrid(X0, X1)\n",
    "\n",
    "clf_all=svm.SVC(kernel='rbf', gamma=0.1, C=C)\n",
    "X_all=X_test\n",
    "y_all=y\n",
    "models_all=clf_all.fit(X_all,y_test)\n",
    "\n",
    "y_predict_SVM = models_all.predict(X_test)\n",
    "\n",
    "plot_contours(plt,clf, xx, yy,cmap=plt.cm.coolwarm, alpha=0.8)\n",
    "\n",
    "plt.scatter(X0, X1,c=y, cmap=plt.cm.coolwarm, s=20, edgecolors='k')\n",
    "plt.xlim(xx.min(), xx.max())\n",
    "plt.ylim(yy.min(), yy.max())\n",
    "plt.xlabel('Neck circumference')\n",
    "plt.ylabel('Chest circumference')\n",
    "plt.xticks(())\n",
    "plt.yticks(())\n",
    "plt.title(title)\n",
    "    \n",
    "plt.show()\n",
    "\n",
    "print(\"Accuracy of Classification: {:.2f}\".format(accuracy_score(y_predict_SVM, y_test)))\n"
   ]
  },
  {
   "cell_type": "markdown",
   "metadata": {
    "collapsed": true
   },
   "source": [
    "### Prediction"
   ]
  },
  {
   "cell_type": "code",
   "execution_count": null,
   "metadata": {},
   "outputs": [],
   "source": [
    "\n",
    "y_SVM_df=pd.DataFrame(y_predict_SVM)\n",
    "y_SVM_df.columns=['Predicted_ST (SVM)']\n",
    "y_SVM_df.reset_index(drop=True, inplace=True)\n",
    "y_test.reset_index(drop=True, inplace=True)\n",
    "Test['predicted_Bodyfat_class']=y_predict_SVM\n",
    "Test"
   ]
  },
  {
   "cell_type": "code",
   "execution_count": null,
   "metadata": {},
   "outputs": [],
   "source": []
  }
 ],
 "metadata": {
  "kernelspec": {
   "display_name": "Python 3",
   "language": "python",
   "name": "python3"
  },
  "language_info": {
   "codemirror_mode": {
    "name": "ipython",
    "version": 3
   },
   "file_extension": ".py",
   "mimetype": "text/x-python",
   "name": "python",
   "nbconvert_exporter": "python",
   "pygments_lexer": "ipython3",
   "version": "3.5.3"
  }
 },
 "nbformat": 4,
 "nbformat_minor": 2
}
