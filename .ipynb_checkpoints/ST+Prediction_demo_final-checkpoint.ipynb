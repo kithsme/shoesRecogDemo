{
 "cells": [
  {
   "cell_type": "code",
   "execution_count": null,
   "metadata": {},
   "outputs": [],
   "source": [
    "import pandas as pd\n",
    "import matplotlib.pyplot as plt\n",
    "import matplotlib\n",
    "import matplotlib.font_manager as fm\n",
    "import numpy as np\n",
    "from sklearn.cluster import KMeans\n",
    "from sklearn.metrics import mean_squared_error, r2_score\n",
    "from sklearn import datasets, linear_model\n",
    "%matplotlib notebook\n",
    "import matplotlib.pyplot as plt\n",
    "import numpy as np\n",
    "from math import cos, sin, atan\n",
    "from sklearn.model_selection import train_test_split\n",
    "from sklearn import datasets\n",
    "from sklearn.linear_model import LinearRegression\n",
    "from sklearn.metrics import mean_squared_error, r2_score\n",
    "from sklearn.dummy import DummyRegressor"
   ]
  },
  {
   "cell_type": "markdown",
   "metadata": {},
   "source": [
    "### Data 불러오기"
   ]
  },
  {
   "cell_type": "code",
   "execution_count": null,
   "metadata": {},
   "outputs": [],
   "source": [
    "df= pd.read_csv('Cutting.csv')\n",
    "df"
   ]
  },
  {
   "cell_type": "markdown",
   "metadata": {},
   "source": [
    "### Train Data 생성"
   ]
  },
  {
   "cell_type": "code",
   "execution_count": null,
   "metadata": {},
   "outputs": [],
   "source": [
    "df_dummy=pd.get_dummies(df)\n",
    "X_part1=df_dummy.iloc[:,:4]\n",
    "X_part2=df_dummy.iloc[:,5:]\n",
    "y=df_dummy.iloc[:,4]\n",
    "X= pd.concat([X_part1, X_part2], axis=1)\n",
    "X_train, X_test, y_train, y_test = train_test_split(X, y, random_state=0)\n",
    "Traindata=pd.concat([X_train,y_train],axis=1)\n",
    "Traindata"
   ]
  },
  {
   "cell_type": "markdown",
   "metadata": {},
   "source": [
    "### Test Data 생성"
   ]
  },
  {
   "cell_type": "code",
   "execution_count": null,
   "metadata": {},
   "outputs": [],
   "source": [
    "Test_temp=pd.concat([X_test,y_test],axis=1)\n",
    "y_test_nan = pd.DataFrame(columns=['predicted_ST'])\n",
    "Test = pd.concat([Test_temp,y_test_nan],axis=1)\n",
    "Test"
   ]
  },
  {
   "cell_type": "markdown",
   "metadata": {},
   "source": [
    "## Regression (Neural Network)"
   ]
  },
  {
   "cell_type": "code",
   "execution_count": null,
   "metadata": {},
   "outputs": [],
   "source": [
    "from sklearn.preprocessing import MinMaxScaler\n",
    "scaler = MinMaxScaler()\n",
    "X_train_scaled = scaler.fit_transform(X_train)\n",
    "X_test_scaled = scaler.transform(X_test)\n",
    "y_train_scaled = y_train\n",
    "y_test_scaled = y_test\n",
    "from sklearn.neural_network import MLPRegressor\n",
    "NNRegressor_scaled = MLPRegressor(hidden_layer_sizes=(100,100,100),learning_rate_init=0.001,activation='relu',solver='adam',max_iter=5000).fit(X_train_scaled, y_train_scaled)\n",
    "y_predict_NNscaled = NNRegressor_scaled.predict(X_test_scaled)\n",
    "print(\"Mean squared error (Neural Network): {:.2f}\".format(mean_squared_error(y_test_scaled, y_predict_NNscaled)))\n",
    "print(\"r2_score (Neural Network): {:.2f}\".format(r2_score(y_test_scaled, y_predict_NNscaled)))\n"
   ]
  },
  {
   "cell_type": "markdown",
   "metadata": {},
   "source": [
    "### Prediction "
   ]
  },
  {
   "cell_type": "code",
   "execution_count": null,
   "metadata": {},
   "outputs": [],
   "source": [
    "y_NN_df=pd.DataFrame(y_predict_NNscaled)\n",
    "y_NN_df.columns=['Predicted_ST (NN)']\n",
    "y_NN_df.reset_index(drop=True, inplace=True)\n",
    "y_test.reset_index(drop=True, inplace=True)\n",
    "Test['predicted_ST']=y_predict_NNscaled\n",
    "#y_compare_NN=pd.merge(Test,y_NN_df,how='left')\n",
    "#y_compare_NN\n",
    "Test"
   ]
  },
  {
   "cell_type": "code",
   "execution_count": null,
   "metadata": {},
   "outputs": [],
   "source": []
  },
  {
   "cell_type": "code",
   "execution_count": null,
   "metadata": {},
   "outputs": [],
   "source": []
  }
 ],
 "metadata": {
  "kernelspec": {
   "display_name": "Python 3",
   "language": "python",
   "name": "python3"
  },
  "language_info": {
   "codemirror_mode": {
    "name": "ipython",
    "version": 3
   },
   "file_extension": ".py",
   "mimetype": "text/x-python",
   "name": "python",
   "nbconvert_exporter": "python",
   "pygments_lexer": "ipython3",
   "version": "3.5.3"
  }
 },
 "nbformat": 4,
 "nbformat_minor": 2
}
